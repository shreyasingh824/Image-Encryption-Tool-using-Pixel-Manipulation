{
 "cells": [
  {
   "cell_type": "code",
   "execution_count": 6,
   "id": "f9312013",
   "metadata": {},
   "outputs": [
    {
     "name": "stdout",
     "output_type": "stream",
     "text": [
      "Requirement already satisfied: pillow in c:\\users\\shreya\\anaconda3\\lib\\site-packages (9.5.0)\n"
     ]
    }
   ],
   "source": [
    "!pip install pillow"
   ]
  },
  {
   "cell_type": "code",
   "execution_count": 7,
   "id": "fcef5541",
   "metadata": {},
   "outputs": [],
   "source": [
    "from PIL import Image\n",
    "import numpy as np"
   ]
  },
  {
   "cell_type": "code",
   "execution_count": 8,
   "id": "3ce5141c",
   "metadata": {},
   "outputs": [],
   "source": [
    "def encrypt_image(image_path, key):\n",
    "    # Open the image\n",
    "    img = Image.open(image_path)\n",
    "    img = img.convert('RGB')  # Ensure image is in RGB mode\n",
    "    pixels = np.array(img)\n",
    "    \n",
    "    # Apply encryption: shift each pixel value by key\n",
    "    encrypted_pixels = (pixels + key) % 256\n",
    "    \n",
    "    # Create and save the encrypted image\n",
    "    encrypted_img = Image.fromarray(encrypted_pixels.astype('uint8'), 'RGB')\n",
    "    encrypted_img.save('encrypted_image.png')\n",
    "    print(\"Image encrypted and saved as 'encrypted_image.png'\")"
   ]
  },
  {
   "cell_type": "code",
   "execution_count": 9,
   "id": "1a79f4bd",
   "metadata": {},
   "outputs": [],
   "source": [
    "def decrypt_image(image_path, key):\n",
    "    # Open the encrypted image\n",
    "    img = Image.open(image_path)\n",
    "    img = img.convert('RGB')  # Ensure image is in RGB mode\n",
    "    pixels = np.array(img)\n",
    "    \n",
    "    # Apply decryption: shift each pixel value by -key\n",
    "    decrypted_pixels = (pixels - key) % 256\n",
    "    \n",
    "    # Create and save the decrypted image\n",
    "    decrypted_img = Image.fromarray(decrypted_pixels.astype('uint8'), 'RGB')\n",
    "    decrypted_img.save('decrypted_image.png')\n",
    "    print(\"Image decrypted and saved as 'decrypted_image.png'\")"
   ]
  },
  {
   "cell_type": "code",
   "execution_count": 11,
   "id": "b280287d",
   "metadata": {},
   "outputs": [
    {
     "name": "stdout",
     "output_type": "stream",
     "text": [
      "Would you like to (e)ncrypt or (d)ecrypt an image? (e/d): d\n",
      "Enter the path to the image: encrypted_image.png\n",
      "Enter the encryption key (integer value): 3\n",
      "Image decrypted and saved as 'decrypted_image.png'\n",
      "Would you like to encrypt/decrypt another image? (yes/no): \n"
     ]
    }
   ],
   "source": [
    "def main():\n",
    "    while True:\n",
    "        choice = input(\"Would you like to (e)ncrypt or (d)ecrypt an image? (e/d): \").lower()\n",
    "        if choice not in ['e', 'd']:\n",
    "            print(\"Invalid choice. Please enter 'e' for encrypt or 'd' for decrypt.\")\n",
    "            continue\n",
    "        \n",
    "        image_path = input(\"Enter the path to the image: \")\n",
    "        key = int(input(\"Enter the encryption key (integer value): \"))\n",
    "\n",
    "        if choice == 'e':\n",
    "            encrypt_image(image_path, key)\n",
    "        else:\n",
    "            decrypt_image(image_path, key)\n",
    "        \n",
    "        again = input(\"Would you like to encrypt/decrypt another image? (yes/no): \").lower()\n",
    "        if again != 'yes':\n",
    "            break\n",
    "\n",
    "if __name__ == \"__main__\":\n",
    "    main()"
   ]
  },
  {
   "cell_type": "code",
   "execution_count": null,
   "id": "e96857a4",
   "metadata": {},
   "outputs": [],
   "source": []
  }
 ],
 "metadata": {
  "kernelspec": {
   "display_name": "Python 3 (ipykernel)",
   "language": "python",
   "name": "python3"
  },
  "language_info": {
   "codemirror_mode": {
    "name": "ipython",
    "version": 3
   },
   "file_extension": ".py",
   "mimetype": "text/x-python",
   "name": "python",
   "nbconvert_exporter": "python",
   "pygments_lexer": "ipython3",
   "version": "3.9.13"
  }
 },
 "nbformat": 4,
 "nbformat_minor": 5
}
